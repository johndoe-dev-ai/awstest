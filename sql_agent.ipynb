{
 "cells": [
  {
   "cell_type": "code",
   "execution_count": 3,
   "metadata": {},
   "outputs": [
    {
     "name": "stdout",
     "output_type": "stream",
     "text": [
      "^C\n"
     ]
    }
   ],
   "source": [
    "!pip install -q crewai"
   ]
  },
  {
   "cell_type": "code",
   "execution_count": 1,
   "metadata": {},
   "outputs": [
    {
     "data": {
      "text/plain": [
       "True"
      ]
     },
     "execution_count": 1,
     "metadata": {},
     "output_type": "execute_result"
    }
   ],
   "source": [
    "import os\n",
    "from dotenv import load_dotenv\n",
    "load_dotenv()"
   ]
  },
  {
   "cell_type": "code",
   "execution_count": 2,
   "metadata": {},
   "outputs": [],
   "source": [
    "os.environ['AWS_DEFAULT_REGION'] = 'us-east-1'\n",
    "os.environ['AWS_ACCESS_KEY_ID'] = os.getenv('AWS_ACCESS_KEY_ID')\n",
    "os.environ['AWS_SECRET_ACCESS_KEY'] = os.getenv('AWS_SECRET_ACCESS_KEY')\n",
    "#os.environ['AWS_SESSION_TOKEN'] = os.getenv('AWS_SESSION_TOKEN')\n",
    "os.environ['MODEL'] = os.getenv('MODEL')"
   ]
  },
  {
   "cell_type": "code",
   "execution_count": 4,
   "metadata": {},
   "outputs": [],
   "source": [
    "from crewai import LLM"
   ]
  },
  {
   "cell_type": "code",
   "execution_count": 12,
   "metadata": {},
   "outputs": [],
   "source": [
    "llm = LLM(\n",
    "          model=\"bedrock/anthropic.claude-3-haiku-20240307-v1:0\",\n",
    "          aws_access_key_id=os.getenv('AWS_ACCESS_KEY_ID'),\n",
    "          aws_secret_access_key=os.getenv('AWS_SECRET_ACCESS_KEY'),\n",
    "          aws_region_name=os.getenv('AWS_REGION_NAME')\n",
    ")"
   ]
  },
  {
   "cell_type": "code",
   "execution_count": 8,
   "metadata": {},
   "outputs": [
    {
     "name": "stderr",
     "output_type": "stream",
     "text": [
      "d:\\AgenticAI\\AgenticAIWorkflow\\venv\\Lib\\site-packages\\pydantic\\_internal\\_config.py:295: PydanticDeprecatedSince20: Support for class-based `config` is deprecated, use ConfigDict instead. Deprecated in Pydantic V2.0 to be removed in V3.0. See Pydantic V2 Migration Guide at https://errors.pydantic.dev/2.10/migration/\n",
      "  warnings.warn(DEPRECATION_MESSAGE, DeprecationWarning)\n",
      "d:\\AgenticAI\\AgenticAIWorkflow\\venv\\Lib\\site-packages\\pydantic\\_internal\\_generate_schema.py:502: UserWarning: <built-in function callable> is not a Python type (it may be an instance of an object), Pydantic will allow any object with no validation since we cannot even enforce that the input is an instance of the given type. To get rid of this error wrap the type with `pydantic.SkipValidation`.\n",
      "  warn(\n",
      "d:\\AgenticAI\\AgenticAIWorkflow\\venv\\Lib\\site-packages\\crewai_tools\\tools\\scrapegraph_scrape_tool\\scrapegraph_scrape_tool.py:34: PydanticDeprecatedSince20: Pydantic V1 style `@validator` validators are deprecated. You should migrate to Pydantic V2 style `@field_validator` validators, see the migration guide for more details. Deprecated in Pydantic V2.0 to be removed in V3.0. See Pydantic V2 Migration Guide at https://errors.pydantic.dev/2.10/migration/\n",
      "  @validator(\"website_url\")\n",
      "d:\\AgenticAI\\AgenticAIWorkflow\\venv\\Lib\\site-packages\\crewai_tools\\tools\\selenium_scraping_tool\\selenium_scraping_tool.py:26: PydanticDeprecatedSince20: Pydantic V1 style `@validator` validators are deprecated. You should migrate to Pydantic V2 style `@field_validator` validators, see the migration guide for more details. Deprecated in Pydantic V2.0 to be removed in V3.0. See Pydantic V2 Migration Guide at https://errors.pydantic.dev/2.10/migration/\n",
      "  @validator(\"website_url\")\n",
      "d:\\AgenticAI\\AgenticAIWorkflow\\venv\\Lib\\site-packages\\crewai_tools\\tools\\vision_tool\\vision_tool.py:15: PydanticDeprecatedSince20: Pydantic V1 style `@validator` validators are deprecated. You should migrate to Pydantic V2 style `@field_validator` validators, see the migration guide for more details. Deprecated in Pydantic V2.0 to be removed in V3.0. See Pydantic V2 Migration Guide at https://errors.pydantic.dev/2.10/migration/\n",
      "  @validator(\"image_path_url\")\n"
     ]
    }
   ],
   "source": [
    "from crewai import Agent, Task, Crew, LLM\n",
    "from crewai_tools import SerperDevTool"
   ]
  },
  {
   "cell_type": "code",
   "execution_count": 13,
   "metadata": {},
   "outputs": [],
   "source": [
    "# Define the Agent\n",
    "researcher = Agent(\n",
    " role='Senior Research Analyst',\n",
    " goal='Uncover cutting-edge developments in AI and data science',\n",
    " backstory=\"You work at a leading tech think tank…\",\n",
    " verbose=True,\n",
    " allow_delegation=False,\n",
    " llm=llm,\n",
    " tool=[SerperDevTool()] # Tool for online searching\n",
    ")\n",
    "# Define the Task\n",
    "task1 = Task(\n",
    " description=\"Conduct a comprehensive analysis of the following topic: {topic}\",\n",
    " expected_output=\"Full analysis report in bullet points\",\n",
    " agent=researcher\n",
    ")\n",
    "crew = Crew(\n",
    " agents=[researcher],\n",
    " tasks=[task1],\n",
    " verbose=True,\n",
    ")"
   ]
  },
  {
   "cell_type": "code",
   "execution_count": 18,
   "metadata": {},
   "outputs": [
    {
     "name": "stdout",
     "output_type": "stream",
     "text": [
      "\u001b[1m\u001b[94m \n",
      "[2025-03-13 00:23:09][🚀 CREW 'CREW' STARTED, 2179AC7C-D31D-4E1E-9763-C85A827EC1DB]: 2025-03-13 00:23:09.334223\u001b[00m\n",
      "\u001b[1m\u001b[94m \n",
      "[2025-03-13 00:23:09][📋 TASK STARTED: CONDUCT A COMPREHENSIVE ANALYSIS OF THE FOLLOWING TOPIC: CREWAI]: 2025-03-13 00:23:09.367690\u001b[00m\n",
      "\u001b[1m\u001b[94m \n",
      "[2025-03-13 00:23:09][🤖 AGENT 'SENIOR RESEARCH ANALYST' STARTED TASK]: 2025-03-13 00:23:09.373692\u001b[00m\n",
      "\u001b[1m\u001b[95m# Agent:\u001b[00m \u001b[1m\u001b[92mSenior Research Analyst\u001b[00m\n",
      "\u001b[95m## Task:\u001b[00m \u001b[92mConduct a comprehensive analysis of the following topic: CrewAI\u001b[00m\n",
      "\u001b[1m\u001b[94m \n",
      "[2025-03-13 00:23:09][🤖 LLM CALL STARTED]: 2025-03-13 00:23:09.375689\u001b[00m\n",
      "\u001b[1m\u001b[94m \n",
      "[2025-03-13 00:23:17][✅ LLM CALL COMPLETED]: 2025-03-13 00:23:17.130314\u001b[00m\n",
      "\n",
      "\n",
      "\u001b[1m\u001b[95m# Agent:\u001b[00m \u001b[1m\u001b[92mSenior Research Analyst\u001b[00m\n",
      "\u001b[95m## Final Answer:\u001b[00m \u001b[92m\n",
      "CrewAI: Comprehensive Analysis\n",
      "\n",
      "I. Overview\n",
      "- CrewAI is an advanced artificial intelligence system designed for crew and resource management in complex environments\n",
      "- It utilizes deep learning, optimization algorithms, and real-time data analytics to autonomously coordinate and optimize human and machine resources\n",
      "- Key features include dynamic task allocation, predictive maintenance, automated scheduling, and intelligent decision support\n",
      "\n",
      "II. Key Features\n",
      "- Dynamic Task Allocation\n",
      "  - Analyzes skill sets, availability, and workload of crew members\n",
      "  - Automatically assigns tasks to optimize productivity and efficiency\n",
      "  - Adjusts assignments in real-time based on changing conditions\n",
      "- Predictive Maintenance\n",
      "  - Monitors equipment and infrastructure health using sensor data\n",
      "  - Predicts failures and degradation using machine learning models\n",
      "  - Schedules proactive maintenance to minimize downtime\n",
      "- Automated Scheduling\n",
      "  - Coordinates complex schedules for personnel, equipment, and resources\n",
      "  - Accounts for factors like shifts, breaks, interdependencies, and priorities\n",
      "  - Adapts schedules dynamically to accommodate changes and disruptions\n",
      "- Intelligent Decision Support\n",
      "  - Provides actionable insights and recommendations to human operators\n",
      "  - Simulates scenarios to evaluate the impact of different courses of action\n",
      "  - Highlights risks, bottlenecks, and optimization opportunities\n",
      "\n",
      "III. Use Cases\n",
      "- Aerospace and aviation: Crew scheduling, maintenance planning, resource optimization for airlines and space operations\n",
      "- Manufacturing and logistics: Production line management, supply chain coordination, warehouse operations\n",
      "- Defense and security: Personnel deployment, asset management, mission planning for military and emergency response\n",
      "- Healthcare: Hospital staff scheduling, medical equipment tracking, patient flow optimization\n",
      "\n",
      "IV. Potential Impact\n",
      "- Increased productivity and efficiency through intelligent automation and optimization\n",
      "- Reduced operational costs and downtime through proactive maintenance and resource optimization\n",
      "- Improved safety and resilience by anticipating and mitigating potential disruptions\n",
      "- Enhanced decision-making capabilities for human operators through data-driven insights\n",
      "- Wider adoption of AI-powered systems in complex, mission-critical environments\n",
      "\n",
      "Overall, CrewAI represents a significant advancement in the field of AI-driven crew and resource management, with the potential to transform a wide range of industries and applications.\u001b[00m\n",
      "\n",
      "\n",
      "\u001b[1m\u001b[94m \n",
      "[2025-03-13 00:23:17][✅ AGENT 'SENIOR RESEARCH ANALYST' COMPLETED TASK]: 2025-03-13 00:23:17.133320\u001b[00m\n",
      "\u001b[1m\u001b[94m \n",
      "[2025-03-13 00:23:17][✅ TASK COMPLETED: CONDUCT A COMPREHENSIVE ANALYSIS OF THE FOLLOWING TOPIC: CREWAI]: 2025-03-13 00:23:17.133320\u001b[00m\n",
      "\u001b[1m\u001b[94m \n",
      "[2025-03-13 00:23:17][✅ CREW 'CREW' COMPLETED, 2179AC7C-D31D-4E1E-9763-C85A827EC1DB]: 2025-03-13 00:23:17.141767\u001b[00m\n"
     ]
    }
   ],
   "source": [
    "result = crew.kickoff(inputs={\"topic\":\"CrewAI\"})"
   ]
  },
  {
   "cell_type": "code",
   "execution_count": 19,
   "metadata": {},
   "outputs": [
    {
     "name": "stdout",
     "output_type": "stream",
     "text": [
      "CrewAI: Comprehensive Analysis\n",
      "\n",
      "I. Overview\n",
      "- CrewAI is an advanced artificial intelligence system designed for crew and resource management in complex environments\n",
      "- It utilizes deep learning, optimization algorithms, and real-time data analytics to autonomously coordinate and optimize human and machine resources\n",
      "- Key features include dynamic task allocation, predictive maintenance, automated scheduling, and intelligent decision support\n",
      "\n",
      "II. Key Features\n",
      "- Dynamic Task Allocation\n",
      "  - Analyzes skill sets, availability, and workload of crew members\n",
      "  - Automatically assigns tasks to optimize productivity and efficiency\n",
      "  - Adjusts assignments in real-time based on changing conditions\n",
      "- Predictive Maintenance\n",
      "  - Monitors equipment and infrastructure health using sensor data\n",
      "  - Predicts failures and degradation using machine learning models\n",
      "  - Schedules proactive maintenance to minimize downtime\n",
      "- Automated Scheduling\n",
      "  - Coordinates complex schedules for personnel, equipment, and resources\n",
      "  - Accounts for factors like shifts, breaks, interdependencies, and priorities\n",
      "  - Adapts schedules dynamically to accommodate changes and disruptions\n",
      "- Intelligent Decision Support\n",
      "  - Provides actionable insights and recommendations to human operators\n",
      "  - Simulates scenarios to evaluate the impact of different courses of action\n",
      "  - Highlights risks, bottlenecks, and optimization opportunities\n",
      "\n",
      "III. Use Cases\n",
      "- Aerospace and aviation: Crew scheduling, maintenance planning, resource optimization for airlines and space operations\n",
      "- Manufacturing and logistics: Production line management, supply chain coordination, warehouse operations\n",
      "- Defense and security: Personnel deployment, asset management, mission planning for military and emergency response\n",
      "- Healthcare: Hospital staff scheduling, medical equipment tracking, patient flow optimization\n",
      "\n",
      "IV. Potential Impact\n",
      "- Increased productivity and efficiency through intelligent automation and optimization\n",
      "- Reduced operational costs and downtime through proactive maintenance and resource optimization\n",
      "- Improved safety and resilience by anticipating and mitigating potential disruptions\n",
      "- Enhanced decision-making capabilities for human operators through data-driven insights\n",
      "- Wider adoption of AI-powered systems in complex, mission-critical environments\n",
      "\n",
      "Overall, CrewAI represents a significant advancement in the field of AI-driven crew and resource management, with the potential to transform a wide range of industries and applications.\n"
     ]
    }
   ],
   "source": [
    "from IPython.display import Markdown\n",
    "print(result)"
   ]
  },
  {
   "cell_type": "code",
   "execution_count": null,
   "metadata": {},
   "outputs": [],
   "source": []
  },
  {
   "cell_type": "code",
   "execution_count": null,
   "metadata": {},
   "outputs": [],
   "source": []
  }
 ],
 "metadata": {
  "kernelspec": {
   "display_name": "Python 3",
   "language": "python",
   "name": "python3"
  },
  "language_info": {
   "codemirror_mode": {
    "name": "ipython",
    "version": 3
   },
   "file_extension": ".py",
   "mimetype": "text/x-python",
   "name": "python",
   "nbconvert_exporter": "python",
   "pygments_lexer": "ipython3",
   "version": "3.12.0"
  }
 },
 "nbformat": 4,
 "nbformat_minor": 2
}
